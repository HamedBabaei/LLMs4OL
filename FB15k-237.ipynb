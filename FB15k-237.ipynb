{
 "cells": [
  {
   "cell_type": "code",
   "execution_count": 2,
   "id": "caee28c3-b9e7-4cce-84af-80a0e142e235",
   "metadata": {},
   "outputs": [],
   "source": [
    "semantic_hierarchy = {\n",
    "                'Level-1': ['wordnet_person_100007846', 'wordnet_organization_108008335', 'wordnet_body_of_water_109225146', \n",
    "                            'wordnet_product_104007894'],\n",
    "    \n",
    "               'Level-2-Organizations': ['wordnet_musical_organization_108246613', 'wordnet_party_108256968', \n",
    "                                         'wordnet_enterprise_108056231', 'wordnet_nongovernmental_organization_108009834'],  \n",
    "    \n",
    "               'Level-2-Persons': ['wordnet_artist_109812338', 'wordnet_officeholder_110371450', 'wordnet_writer_110794014', \n",
    "                                   'wordnet_scientist_110560637', 'wordnet_politician_110450303'],         \n",
    "    \n",
    "               'Level-3-Artists': ['wordnet_painter_110391653', 'wordnet_sculptor_110566072', 'wordnet_photographer_110426749', \n",
    "                                   'wordnet_illustrator_109812068', 'wordnet_printmaker_110475687']           \n",
    " \n",
    "               }"
   ]
  },
  {
   "cell_type": "code",
   "execution_count": 4,
   "id": "11dccd87-3df2-4214-a9af-608aa92c1489",
   "metadata": {},
   "outputs": [
    {
     "name": "stdout",
     "output_type": "stream",
     "text": [
      "Counts:18\n",
      "----------------------------------------------------------------------------------------------------\n",
      "keys: dict_keys(['Level-1', 'Level-2-Organizations', 'Level-2-Persons', 'Level-3-Artists'])\n",
      "----------------------------------------------------------------------------------------------------\n",
      "Level-1 \t 4\n",
      "Level-2-Organizations \t 4\n",
      "Level-2-Persons \t 5\n",
      "Level-3-Artists \t 5\n"
     ]
    }
   ],
   "source": [
    "hierarchies = {}\n",
    "count = 0\n",
    "for level, wordnet_types in semantic_hierarchy.items():\n",
    "    if level not in hierarchies:\n",
    "        hierarchies[level] = []\n",
    "    for wordnet_type in wordnet_types:\n",
    "        if wordnet_type not in hierarchies[level]:\n",
    "            count += 1\n",
    "            hierarchies[level].append(wordnet_type)\n",
    "            \n",
    "print(f\"Counts:{count}\")\n",
    "print(\"-\"*100)\n",
    "\n",
    "print(f\"keys: {hierarchies.keys()}\")\n",
    "print(\"-\"*100)\n",
    "\n",
    "for key, items in hierarchies.items():\n",
    "    print(key, \"\\t\", len(items))"
   ]
  },
  {
   "cell_type": "code",
   "execution_count": 5,
   "id": "25602977-51c3-4c35-95bb-880f1c863076",
   "metadata": {},
   "outputs": [
    {
     "data": {
      "text/plain": [
       "{'wordnet_person_100007846': 'Level-1@person',\n",
       " 'wordnet_organization_108008335': 'Level-1@organization',\n",
       " 'wordnet_body_of_water_109225146': 'Level-1@body_of_water',\n",
       " 'wordnet_product_104007894': 'Level-1@product'}"
      ]
     },
     "execution_count": 5,
     "metadata": {},
     "output_type": "execute_result"
    }
   ],
   "source": [
    "level1_mapper = {}\n",
    "\n",
    "for level, wordnet_types in semantic_hierarchy.items():\n",
    "    if level.startswith(\"Level-1\"):        \n",
    "        for wordnet_type in wordnet_types:\n",
    "            level1_mapper[wordnet_type] = level + \"@\" + '_'.join(wordnet_type.split(\"_\")[1:-1])\n",
    "\n",
    "level1_mapper"
   ]
  },
  {
   "cell_type": "code",
   "execution_count": 6,
   "id": "047b6aa0-e2aa-4611-a4b8-0ac226f6c0b7",
   "metadata": {},
   "outputs": [
    {
     "data": {
      "text/plain": [
       "{'wordnet_musical_organization_108246613': 'Level-2-Organizations@musical_organization',\n",
       " 'wordnet_party_108256968': 'Level-2-Organizations@party',\n",
       " 'wordnet_enterprise_108056231': 'Level-2-Organizations@enterprise',\n",
       " 'wordnet_nongovernmental_organization_108009834': 'Level-2-Organizations@nongovernmental_organization',\n",
       " 'wordnet_artist_109812338': 'Level-2-Persons@artist',\n",
       " 'wordnet_officeholder_110371450': 'Level-2-Persons@officeholder',\n",
       " 'wordnet_writer_110794014': 'Level-2-Persons@writer',\n",
       " 'wordnet_scientist_110560637': 'Level-2-Persons@scientist',\n",
       " 'wordnet_politician_110450303': 'Level-2-Persons@politician'}"
      ]
     },
     "execution_count": 6,
     "metadata": {},
     "output_type": "execute_result"
    }
   ],
   "source": [
    "level2_mapper = {}\n",
    "\n",
    "for level, wordnet_types in semantic_hierarchy.items():\n",
    "    if level.startswith(\"Level-2\"):        \n",
    "        for wordnet_type in wordnet_types:\n",
    "            level2_mapper[wordnet_type] = level + \"@\" + '_'.join(wordnet_type.split(\"_\")[1:-1])\n",
    "\n",
    "level2_mapper"
   ]
  },
  {
   "cell_type": "code",
   "execution_count": 7,
   "id": "44df0436-3cd4-4ae5-86f6-9797e7354184",
   "metadata": {},
   "outputs": [
    {
     "data": {
      "text/plain": [
       "{'wordnet_painter_110391653': 'Level-3-Artists@painter',\n",
       " 'wordnet_sculptor_110566072': 'Level-3-Artists@sculptor',\n",
       " 'wordnet_photographer_110426749': 'Level-3-Artists@photographer',\n",
       " 'wordnet_illustrator_109812068': 'Level-3-Artists@illustrator',\n",
       " 'wordnet_printmaker_110475687': 'Level-3-Artists@printmaker'}"
      ]
     },
     "execution_count": 7,
     "metadata": {},
     "output_type": "execute_result"
    }
   ],
   "source": [
    "level3_mapper = {}\n",
    "\n",
    "for level, wordnet_types in semantic_hierarchy.items():\n",
    "    if level.startswith(\"Level-3\"):        \n",
    "        for wordnet_type in wordnet_types:\n",
    "            level3_mapper[wordnet_type] = level + \"@\" + '_'.join(wordnet_type.split(\"_\")[1:-1])\n",
    "\n",
    "level3_mapper"
   ]
  },
  {
   "cell_type": "code",
   "execution_count": 8,
   "id": "09b739d7-b55e-4e52-9d4c-fb93a32a8733",
   "metadata": {},
   "outputs": [],
   "source": [
    "import json\n",
    "\n",
    "semantic_hierarchy = {\n",
    "    \"level-1\": level1_mapper,\n",
    "    \"level-2\": level2_mapper,\n",
    "    \"level-3\": level3_mapper\n",
    "}\n",
    "\n",
    "path = \"assets/FreeBase/\"\n",
    "\n",
    "with open(path+\"freebase_llms2ol_hierarchy.json\", \"w\") as js_file:\n",
    "    js_file.write(json.dumps(semantic_hierarchy, indent=4))"
   ]
  },
  {
   "cell_type": "code",
   "execution_count": 9,
   "id": "356fc07b-340b-49c2-8f71-2a0883c72519",
   "metadata": {},
   "outputs": [],
   "source": [
    "from configuration import BaseConfig\n",
    "from datahandler import DataReader, DataWriter\n",
    "import pandas as pd\n",
    "import os\n",
    "\n",
    "config = BaseConfig().get_args(db_name=\"fb15k-237\")"
   ]
  },
  {
   "cell_type": "code",
   "execution_count": 138,
   "id": "5e6b4332-6bf5-4f50-8d35-73296e36b6ab",
   "metadata": {},
   "outputs": [],
   "source": [
    "def add_levels(items_lst, mapper):\n",
    "    mapped_levels_lst = []\n",
    "    for items in items_lst:\n",
    "        mapped_level = []\n",
    "        if str(items) != 'nan':\n",
    "            for item in eval(str(items)):\n",
    "                if mapper.get(item, \"NA\") != \"NA\":\n",
    "                    mapped_level.append(mapper.get(item))\n",
    "        mapped_levels_lst.append(list(set(mapped_level)))\n",
    "    return mapped_levels_lst\n",
    "\n",
    "def add_levels_to_df(df, level1, level2, level3):\n",
    "    df['level-1'] = add_levels(df['entclass'].tolist(), level1)\n",
    "    df['level-2'] = add_levels(df['entclass'].tolist(), level2)\n",
    "    df['level-3'] = add_levels(df['entclass'].tolist(), level3)\n",
    "    return df\n",
    "\n",
    "\n",
    "def create_level_mapper(freebase_hierarchy):\n",
    "    hierarchy = DataReader.load_json(freebase_hierarchy)\n",
    "    level_mappers = {\"level-1\":{}, \"level-2\":{}, \"level-3\":{}}\n",
    "    for level, level_dict in hierarchy.items():\n",
    "        for wordnet_type, level_class in level_dict.items():\n",
    "            level_mappers[level][wordnet_type] = level_class\n",
    "    return level_mappers['level-1'], level_mappers['level-2'], level_mappers['level-3']\n",
    "\n",
    "\n",
    "################################################################################################################\n",
    "def make_entity_df(df, dataset_name):\n",
    "    df_ent = pd.concat([\n",
    "            df[['head-mid']].rename(columns={'head-mid':\"mid\"}), \n",
    "            df[['tail-mid']].rename(columns={'tail-mid':\"mid\"})\n",
    "            ]).reset_index(drop=True)\n",
    "    print(\"-\"*40)\n",
    "    print(f\"{dataset_name} size before removing duplicates based on [mid] is:{df_ent.shape[0]}\")\n",
    "    df_ent = df_ent.drop_duplicates(subset=['mid'], keep='first').reset_index()\n",
    "    print(f\"Current size  after droping duplicates is: {df_ent.shape[0]}\")\n",
    "    return df_ent\n",
    "\n",
    "def create_mid2entclass_mapper(freebase_types_path, freebase_hierarchy):\n",
    "    print(\"-\"*40)\n",
    "    type_df = DataReader.load_csv(freebase_types_path, sep='\\t', names=[\"mid\", \"wordnet_type\"])\n",
    "    hierarchy = DataReader.load_json(freebase_hierarchy)\n",
    "\n",
    "    wordnet_types_to_consider = []\n",
    "    for _, level_dict in hierarchy.items():\n",
    "        for wordnet_type, _ in level_dict.items():\n",
    "            wordnet_types_to_consider.append(wordnet_type)\n",
    "    wordnet_types_to_consider = list(set(wordnet_types_to_consider))    \n",
    "\n",
    "    type_df = type_df[type_df['wordnet_type'].isin(wordnet_types_to_consider)]\n",
    "    print(\"Shape of WordNet types dataframe is:\", type_df.shape[0])\n",
    "    print(\"Number of unique values for WordNet types are:\", len(type_df['wordnet_type'].unique()))\n",
    "\n",
    "    mid2entclass_mapper = {}\n",
    "    for mid, wordnet_type in zip(type_df['mid'].tolist(), type_df['wordnet_type'].tolist()):\n",
    "        if mid not in mid2entclass_mapper:\n",
    "            mid2entclass_mapper[mid] = []\n",
    "        mid2entclass_mapper[mid].append(wordnet_type)\n",
    "    print(f\"At the end size of MID2EntClass mapper is:{len(mid2entclass_mapper)}\")\n",
    "    return mid2entclass_mapper\n",
    "\n",
    "\n",
    "def convert_mid2ent_classes(df, mid2entclass_mapper, dataset_name):\n",
    "    print(\"-\"*40)\n",
    "    print(f\"working on dataset in converting MID2EntClass: {dataset_name}\")\n",
    "    df['entclass'] = df['mid'].map(mid2entclass_mapper)\n",
    "    old_size = df.shape[0]\n",
    "    df = df.dropna(subset=['entclass'])\n",
    "    print(f\"Number of NANS in {dataset_name} set is: {old_size - df.shape[0]}\")\n",
    "    print(f\"Current size of {dataset_name} is:{df.shape[0]}\")\n",
    "    return df\n",
    "\n",
    "\n",
    "def convert_mid2names(df, mid2name_mapper, dataset_name):\n",
    "    print(\"-\"*40)\n",
    "    print(f\"working on dataset in converting MID2Names: {dataset_name}\")\n",
    "    df['name'] = df['mid'].map(mid2name_mapper)\n",
    "    old_size = df.shape[0]\n",
    "    df = df.dropna()\n",
    "    print(f\"Number of NANS in {dataset_name} set is: {old_size - df.shape[0]}\")\n",
    "    print(f\"Current size of {dataset_name} is:{df.shape[0]}\")\n",
    "    return df\n",
    "\n",
    "def creat_freebase_fb15kbased_mapper(dir_path):\n",
    "    mid2names_dict = {}\n",
    "    for js_file in os.listdir(dir_path):\n",
    "        js_file_path = os.path.join(dir_path, js_file)\n",
    "        fold_data = DataReader.load_json(js_file_path)\n",
    "        for key, folds in fold_data.items():\n",
    "            mid2names_dict_lst = []\n",
    "            for fold in folds:\n",
    "                try:\n",
    "                    _, rel, tail = fold[2:-6].split(\"\\\\t\")\n",
    "                    if \"type.object.name\" in rel and \"@en\" in tail:\n",
    "                        mid2names_dict_lst.append(tail.split(\"@\")[0][1:-1])\n",
    "                except:\n",
    "                    continue\n",
    "            if len(mid2names_dict_lst) != 0:\n",
    "                mid2names_dict[\"/\"+key.replace(\".\", \"/\")] = mid2names_dict_lst\n",
    "    mid2names_dict = {key: values[0] for key, values in mid2names_dict.items()}\n",
    "    return mid2names_dict"
   ]
  },
  {
   "cell_type": "code",
   "execution_count": 139,
   "id": "098074ed-f10d-40d7-a8a5-69394e55a67c",
   "metadata": {},
   "outputs": [
    {
     "data": {
      "text/html": [
       "<div>\n",
       "<style scoped>\n",
       "    .dataframe tbody tr th:only-of-type {\n",
       "        vertical-align: middle;\n",
       "    }\n",
       "\n",
       "    .dataframe tbody tr th {\n",
       "        vertical-align: top;\n",
       "    }\n",
       "\n",
       "    .dataframe thead th {\n",
       "        text-align: right;\n",
       "    }\n",
       "</style>\n",
       "<table border=\"1\" class=\"dataframe\">\n",
       "  <thead>\n",
       "    <tr style=\"text-align: right;\">\n",
       "      <th></th>\n",
       "      <th>head-mid</th>\n",
       "      <th>relation</th>\n",
       "      <th>tail-mid</th>\n",
       "    </tr>\n",
       "  </thead>\n",
       "  <tbody>\n",
       "    <tr>\n",
       "      <th>0</th>\n",
       "      <td>/m/027rn</td>\n",
       "      <td>/location/country/form_of_government</td>\n",
       "      <td>/m/06cx9</td>\n",
       "    </tr>\n",
       "    <tr>\n",
       "      <th>1</th>\n",
       "      <td>/m/017dcd</td>\n",
       "      <td>/tv/tv_program/regular_cast./tv/regular_tv_app...</td>\n",
       "      <td>/m/06v8s0</td>\n",
       "    </tr>\n",
       "  </tbody>\n",
       "</table>\n",
       "</div>"
      ],
      "text/plain": [
       "    head-mid                                           relation   tail-mid\n",
       "0   /m/027rn               /location/country/form_of_government   /m/06cx9\n",
       "1  /m/017dcd  /tv/tv_program/regular_cast./tv/regular_tv_app...  /m/06v8s0"
      ]
     },
     "execution_count": 139,
     "metadata": {},
     "output_type": "execute_result"
    }
   ],
   "source": [
    "# load datasets\n",
    "train, test, valid = DataReader.load_csv(config.raw_train, sep='\\t', names=[\"head-mid\", \"relation\", \"tail-mid\"]), \\\n",
    "                     DataReader.load_csv(config.raw_test, sep='\\t',  names=[\"head-mid\", \"relation\", \"tail-mid\"]), \\\n",
    "                     DataReader.load_csv(config.raw_valid, sep='\\t', names=[\"head-mid\", \"relation\", \"tail-mid\"])\n",
    "train.head(2)"
   ]
  },
  {
   "cell_type": "code",
   "execution_count": 140,
   "id": "2d0cd917-b669-44f5-8b5b-f59ae8fbcb28",
   "metadata": {},
   "outputs": [
    {
     "name": "stdout",
     "output_type": "stream",
     "text": [
      "----------------------------------------\n",
      "Train size before removing duplicates based on [mid] is:544230\n",
      "Current size  after droping duplicates is: 14505\n",
      "----------------------------------------\n",
      "Test size before removing duplicates based on [mid] is:40932\n",
      "Current size  after droping duplicates is: 10348\n",
      "----------------------------------------\n",
      "Valid size before removing duplicates based on [mid] is:35070\n",
      "Current size  after droping duplicates is: 9809\n"
     ]
    },
    {
     "data": {
      "text/html": [
       "<div>\n",
       "<style scoped>\n",
       "    .dataframe tbody tr th:only-of-type {\n",
       "        vertical-align: middle;\n",
       "    }\n",
       "\n",
       "    .dataframe tbody tr th {\n",
       "        vertical-align: top;\n",
       "    }\n",
       "\n",
       "    .dataframe thead th {\n",
       "        text-align: right;\n",
       "    }\n",
       "</style>\n",
       "<table border=\"1\" class=\"dataframe\">\n",
       "  <thead>\n",
       "    <tr style=\"text-align: right;\">\n",
       "      <th></th>\n",
       "      <th>index</th>\n",
       "      <th>mid</th>\n",
       "    </tr>\n",
       "  </thead>\n",
       "  <tbody>\n",
       "    <tr>\n",
       "      <th>0</th>\n",
       "      <td>0</td>\n",
       "      <td>/m/027rn</td>\n",
       "    </tr>\n",
       "    <tr>\n",
       "      <th>1</th>\n",
       "      <td>1</td>\n",
       "      <td>/m/017dcd</td>\n",
       "    </tr>\n",
       "  </tbody>\n",
       "</table>\n",
       "</div>"
      ],
      "text/plain": [
       "   index        mid\n",
       "0      0   /m/027rn\n",
       "1      1  /m/017dcd"
      ]
     },
     "execution_count": 140,
     "metadata": {},
     "output_type": "execute_result"
    }
   ],
   "source": [
    "train_ent, test_ent, valid_ent = make_entity_df(train, \"Train\"), make_entity_df(test, \"Test\"), make_entity_df(valid, \"Valid\")\n",
    "\n",
    "train_ent.head(2)"
   ]
  },
  {
   "cell_type": "code",
   "execution_count": 141,
   "id": "5fbd09fa-f765-46c5-9414-f79272f0298d",
   "metadata": {},
   "outputs": [
    {
     "name": "stdout",
     "output_type": "stream",
     "text": [
      "----------------------------------------\n",
      "Shape of WordNet types dataframe is: 13358\n",
      "Number of unique values for WordNet types are: 18\n",
      "At the end size of MID2EntClass mapper is:8423\n",
      "----------------------------------------\n",
      "working on dataset in converting MID2EntClass: Train\n",
      "Number of NANS in Train set is: 6082\n",
      "Current size of Train is:8423\n",
      "----------------------------------------\n",
      "working on dataset in converting MID2EntClass: Test\n",
      "Number of NANS in Test set is: 3913\n",
      "Current size of Test is:6435\n",
      "----------------------------------------\n",
      "working on dataset in converting MID2EntClass: Valid\n",
      "Number of NANS in Valid set is: 3684\n",
      "Current size of Valid is:6125\n"
     ]
    },
    {
     "data": {
      "text/html": [
       "<div>\n",
       "<style scoped>\n",
       "    .dataframe tbody tr th:only-of-type {\n",
       "        vertical-align: middle;\n",
       "    }\n",
       "\n",
       "    .dataframe tbody tr th {\n",
       "        vertical-align: top;\n",
       "    }\n",
       "\n",
       "    .dataframe thead th {\n",
       "        text-align: right;\n",
       "    }\n",
       "</style>\n",
       "<table border=\"1\" class=\"dataframe\">\n",
       "  <thead>\n",
       "    <tr style=\"text-align: right;\">\n",
       "      <th></th>\n",
       "      <th>index</th>\n",
       "      <th>mid</th>\n",
       "      <th>entclass</th>\n",
       "    </tr>\n",
       "  </thead>\n",
       "  <tbody>\n",
       "    <tr>\n",
       "      <th>3</th>\n",
       "      <td>3</td>\n",
       "      <td>/m/01sl1q</td>\n",
       "      <td>[wordnet_writer_110794014, wordnet_person_1000...</td>\n",
       "    </tr>\n",
       "    <tr>\n",
       "      <th>5</th>\n",
       "      <td>5</td>\n",
       "      <td>/m/04nrcg</td>\n",
       "      <td>[wordnet_organization_108008335]</td>\n",
       "    </tr>\n",
       "  </tbody>\n",
       "</table>\n",
       "</div>"
      ],
      "text/plain": [
       "   index        mid                                           entclass\n",
       "3      3  /m/01sl1q  [wordnet_writer_110794014, wordnet_person_1000...\n",
       "5      5  /m/04nrcg                   [wordnet_organization_108008335]"
      ]
     },
     "execution_count": 141,
     "metadata": {},
     "output_type": "execute_result"
    }
   ],
   "source": [
    "mid2entclass = create_mid2entclass_mapper(config.freebase_types, config.freebase_hierarchy)\n",
    "\n",
    "train_ent, test_ent, valid_ent = convert_mid2ent_classes(train_ent, mid2entclass, \"Train\"), \\\n",
    "                                 convert_mid2ent_classes(test_ent, mid2entclass, \"Test\"), \\\n",
    "                                 convert_mid2ent_classes(valid_ent, mid2entclass, \"Valid\")\n",
    "\n",
    "train_ent.head(2)"
   ]
  },
  {
   "cell_type": "code",
   "execution_count": 142,
   "id": "22fb0a88-6ef0-473c-b380-56a6a23875b7",
   "metadata": {},
   "outputs": [
    {
     "name": "stdout",
     "output_type": "stream",
     "text": [
      "----------------------------------------\n",
      "working on dataset in converting MID2Names: Train\n",
      "Number of NANS in Train set is: 12\n",
      "Current size of Train is:8411\n",
      "----------------------------------------\n",
      "working on dataset in converting MID2Names: Test\n",
      "Number of NANS in Test set is: 9\n",
      "Current size of Test is:6426\n",
      "----------------------------------------\n",
      "working on dataset in converting MID2Names: Valid\n",
      "Number of NANS in Valid set is: 11\n",
      "Current size of Valid is:6114\n"
     ]
    },
    {
     "data": {
      "text/html": [
       "<div>\n",
       "<style scoped>\n",
       "    .dataframe tbody tr th:only-of-type {\n",
       "        vertical-align: middle;\n",
       "    }\n",
       "\n",
       "    .dataframe tbody tr th {\n",
       "        vertical-align: top;\n",
       "    }\n",
       "\n",
       "    .dataframe thead th {\n",
       "        text-align: right;\n",
       "    }\n",
       "</style>\n",
       "<table border=\"1\" class=\"dataframe\">\n",
       "  <thead>\n",
       "    <tr style=\"text-align: right;\">\n",
       "      <th></th>\n",
       "      <th>index</th>\n",
       "      <th>mid</th>\n",
       "      <th>entclass</th>\n",
       "      <th>name</th>\n",
       "    </tr>\n",
       "  </thead>\n",
       "  <tbody>\n",
       "    <tr>\n",
       "      <th>3</th>\n",
       "      <td>3</td>\n",
       "      <td>/m/01sl1q</td>\n",
       "      <td>[wordnet_writer_110794014, wordnet_person_1000...</td>\n",
       "      <td>Michelle Rodriguez</td>\n",
       "    </tr>\n",
       "    <tr>\n",
       "      <th>5</th>\n",
       "      <td>5</td>\n",
       "      <td>/m/04nrcg</td>\n",
       "      <td>[wordnet_organization_108008335]</td>\n",
       "      <td>Maldives national football team</td>\n",
       "    </tr>\n",
       "  </tbody>\n",
       "</table>\n",
       "</div>"
      ],
      "text/plain": [
       "   index        mid                                           entclass  \\\n",
       "3      3  /m/01sl1q  [wordnet_writer_110794014, wordnet_person_1000...   \n",
       "5      5  /m/04nrcg                   [wordnet_organization_108008335]   \n",
       "\n",
       "                              name  \n",
       "3               Michelle Rodriguez  \n",
       "5  Maldives national football team  "
      ]
     },
     "execution_count": 142,
     "metadata": {},
     "output_type": "execute_result"
    }
   ],
   "source": [
    "mid2name = creat_freebase_fb15kbased_mapper(dir_path=config.freebase_dumps_dir)\n",
    "\n",
    "train_ent, test_ent, valid_ent = convert_mid2names(train_ent, mid2name, \"Train\"), \\\n",
    "                                 convert_mid2names(test_ent,  mid2name, \"Test\"), \\\n",
    "                                 convert_mid2names(valid_ent, mid2name, \"Valid\")\n",
    "train_ent.head(2)"
   ]
  },
  {
   "cell_type": "code",
   "execution_count": 143,
   "id": "6a1fa4ea-86a2-43c2-b98c-398f78dd4495",
   "metadata": {},
   "outputs": [
    {
     "data": {
      "text/html": [
       "<div>\n",
       "<style scoped>\n",
       "    .dataframe tbody tr th:only-of-type {\n",
       "        vertical-align: middle;\n",
       "    }\n",
       "\n",
       "    .dataframe tbody tr th {\n",
       "        vertical-align: top;\n",
       "    }\n",
       "\n",
       "    .dataframe thead th {\n",
       "        text-align: right;\n",
       "    }\n",
       "</style>\n",
       "<table border=\"1\" class=\"dataframe\">\n",
       "  <thead>\n",
       "    <tr style=\"text-align: right;\">\n",
       "      <th></th>\n",
       "      <th>index</th>\n",
       "      <th>mid</th>\n",
       "      <th>entclass</th>\n",
       "      <th>name</th>\n",
       "      <th>level-1</th>\n",
       "      <th>level-2</th>\n",
       "      <th>level-3</th>\n",
       "    </tr>\n",
       "  </thead>\n",
       "  <tbody>\n",
       "    <tr>\n",
       "      <th>3</th>\n",
       "      <td>3</td>\n",
       "      <td>/m/01sl1q</td>\n",
       "      <td>[wordnet_writer_110794014, wordnet_person_1000...</td>\n",
       "      <td>Michelle Rodriguez</td>\n",
       "      <td>[Level-1@person]</td>\n",
       "      <td>[Level-2-Persons@writer]</td>\n",
       "      <td>[]</td>\n",
       "    </tr>\n",
       "    <tr>\n",
       "      <th>5</th>\n",
       "      <td>5</td>\n",
       "      <td>/m/04nrcg</td>\n",
       "      <td>[wordnet_organization_108008335]</td>\n",
       "      <td>Maldives national football team</td>\n",
       "      <td>[Level-1@organization]</td>\n",
       "      <td>[]</td>\n",
       "      <td>[]</td>\n",
       "    </tr>\n",
       "    <tr>\n",
       "      <th>6</th>\n",
       "      <td>6</td>\n",
       "      <td>/m/07nznf</td>\n",
       "      <td>[wordnet_writer_110794014, wordnet_person_1000...</td>\n",
       "      <td>Bryan Singer</td>\n",
       "      <td>[Level-1@person]</td>\n",
       "      <td>[Level-2-Persons@writer]</td>\n",
       "      <td>[]</td>\n",
       "    </tr>\n",
       "  </tbody>\n",
       "</table>\n",
       "</div>"
      ],
      "text/plain": [
       "   index        mid                                           entclass  \\\n",
       "3      3  /m/01sl1q  [wordnet_writer_110794014, wordnet_person_1000...   \n",
       "5      5  /m/04nrcg                   [wordnet_organization_108008335]   \n",
       "6      6  /m/07nznf  [wordnet_writer_110794014, wordnet_person_1000...   \n",
       "\n",
       "                              name                 level-1  \\\n",
       "3               Michelle Rodriguez        [Level-1@person]   \n",
       "5  Maldives national football team  [Level-1@organization]   \n",
       "6                     Bryan Singer        [Level-1@person]   \n",
       "\n",
       "                    level-2 level-3  \n",
       "3  [Level-2-Persons@writer]      []  \n",
       "5                        []      []  \n",
       "6  [Level-2-Persons@writer]      []  "
      ]
     },
     "execution_count": 143,
     "metadata": {},
     "output_type": "execute_result"
    }
   ],
   "source": [
    "wordnet2level1, wordnet2level2, wordnet2level3 = create_level_mapper(config.freebase_hierarchy)\n",
    "\n",
    "train_ent, test_ent, valid_ent = add_levels_to_df(train_ent, wordnet2level1, wordnet2level2, wordnet2level3), \\\n",
    "                                 add_levels_to_df(test_ent, wordnet2level1, wordnet2level2, wordnet2level3), \\\n",
    "                                 add_levels_to_df(valid_ent, wordnet2level1, wordnet2level2, wordnet2level3)\n",
    "\n",
    "train_ent.head(3)"
   ]
  },
  {
   "cell_type": "code",
   "execution_count": 177,
   "id": "33563c70-d242-4097-9e8d-5c06f89cf6dc",
   "metadata": {},
   "outputs": [],
   "source": [
    "def get_level1_based_on_level2(level):\n",
    "    return level[:7].replace(\"2\", \"1@\") + ''.join(level[8:].split('@')[0])\n",
    "\n",
    "def get_level1_based_on_level3(level):\n",
    "    return level[:7].replace(\"3\", \"1@\") + ''.join(level[8:].split('@')[0].split(\"-\")[0])\n",
    "\n",
    "def get_level2_based_on_level3(level):\n",
    "    return level[:7].replace(\"3\", \"2-\") + '@'.join(level[8:].split('@')[0].split(\"-\"))\n",
    "\n",
    "def make_levels_cleaner(df):\n",
    "    level1_ref, level2_ref, level3_ref = [], [], []\n",
    "    for level1, level2, level3 in zip(df['level-1'], df['level-2'], df['level-3']):\n",
    "        if len(level1) == 0:\n",
    "            if len(level2) != 0:\n",
    "                level1_based_on_level2 = []\n",
    "                for level in level2:\n",
    "                    level1_based_on_level2.append(get_level1_based_on_level2(level))\n",
    "                level1_temp = list(set(level1_based_on_level2))\n",
    "            elif len(level3) != 0:\n",
    "                level1_based_on_level3 = []\n",
    "                for level in level3:\n",
    "                    level1_based_on_level3.append(get_level1_based_on_level3(level))\n",
    "                level1_temp = list(set(level1_based_on_level2))\n",
    "        else:\n",
    "            level1_temp = list(set(level1))\n",
    "\n",
    "        if len(level2) == 0 and len(level3) != 0:\n",
    "            level2_based_on_level3 = []\n",
    "            for level in level3:\n",
    "                level2_based_on_level3.append(get_level2_based_on_level3(level))\n",
    "            level2_temp = list(set(level2_based_on_level3))\n",
    "\n",
    "        else:\n",
    "            level2_temp = list(set(level2))\n",
    "        level3_temp = list(set(level3))\n",
    "\n",
    "        #‌ LEVEL 1 11111111111111111111111111111111111111111111\n",
    "        if len(level1_temp) == 1:\n",
    "            level1_ref.append(level1_temp[0])    \n",
    "        elif len(level1_temp) == 0:\n",
    "            level1_ref.append(None)\n",
    "        else:\n",
    "            if level2_temp == ['Level-2-event@social_event', 'Level-2-event@show']:\n",
    "                level1_ref.append(\"Level-1@event\")\n",
    "            elif level2_temp == ['Level-2-event@social_event']:\n",
    "                level1_ref.append(\"Level-1@event\")\n",
    "\n",
    "        #‌ LEVEL 2 22222222222222222222222222222222222222222222\n",
    "        if len(level2_temp) == 1:\n",
    "            level2_ref.append(level2_temp[0])\n",
    "        elif len(level2_temp) == 0:\n",
    "            level2_ref.append(None)\n",
    "        else:\n",
    "            level2_based_on_level3_2nd = []\n",
    "            for level in level3_temp:\n",
    "                level2_based_on_level3_2nd.append(get_level2_based_on_level3(level))\n",
    "\n",
    "            level2_based_on_level3_2nd = list(set(level2_based_on_level3_2nd))\n",
    "            intersection_lst = list(set(level2_based_on_level3_2nd).intersection(set(level2_temp)))\n",
    "\n",
    "            if len(intersection_lst) == 1:\n",
    "                level2_temp = intersection_lst.copy()\n",
    "                new_level3_temp = []\n",
    "                for level in level3_temp:\n",
    "                    if get_level2_based_on_level3(level) in intersection_lst:\n",
    "                        new_level3_temp.append(level)\n",
    "\n",
    "                level3_temp = list(set(new_level3_temp)).copy()\n",
    "                level2_ref.append(level2_temp[0])\n",
    "\n",
    "            else:\n",
    "                if len(intersection_lst) == 0:\n",
    "                    level3_temp = []\n",
    "                    level2_ref.append(level2_temp[0])\n",
    "                else:\n",
    "                    level2_temp = intersection_lst[:1].copy()\n",
    "                    new_level3_temp = []\n",
    "                    for level in level3_temp:\n",
    "                        if get_level2_based_on_level3(level) in level2_temp:\n",
    "                            new_level3_temp.append(level)\n",
    "                    level2_ref.append(level2_temp[0])\n",
    "                    level3_temp = new_level3_temp.copy()\n",
    "\n",
    "                    # for l in new_level3_temp:\n",
    "                    #     if \"Level-3\" in l:\n",
    "                    #         print(l)\n",
    "        #‌ LEVEL 3 3333333333333333333333333333333333333333333333333333\n",
    "        if len(level3_temp) == 1:\n",
    "            level3_ref.append(level3_temp[0])\n",
    "        elif len(level3_temp) == 0:\n",
    "            level3_ref.append(None)\n",
    "        else:\n",
    "            # for l in level3_temp:\n",
    "            #     level3_temp_fq_dict[l] += 1\n",
    "            level3_ref.append(level3_temp[0])\n",
    "            # print(\"level3_temp:\", level3_temp)\n",
    "            # print(\"-\"*70)\n",
    "            # level3_ref.append(level3_temp)\n",
    "    print(df.shape[0], \"l1:\", len(level1_ref), \"l2:\", len(level2_ref), \"l3:\", len(level3_ref) )\n",
    "    df['level-1-cleaned'] = level1_ref\n",
    "    df['level-2-cleaned'] = level2_ref\n",
    "    df['level-3-cleaned'] = level3_ref\n",
    "    return df"
   ]
  },
  {
   "cell_type": "code",
   "execution_count": 178,
   "id": "d66296d3-3d59-455a-ab5b-1cc07767456d",
   "metadata": {},
   "outputs": [
    {
     "name": "stdout",
     "output_type": "stream",
     "text": [
      "8411 l1: 8411 l2: 8411 l3: 8411\n",
      "6426 l1: 6426 l2: 6426 l3: 6426\n",
      "6114 l1: 6114 l2: 6114 l3: 6114\n",
      "shape of dataframe is: 8411\n"
     ]
    },
    {
     "data": {
      "text/html": [
       "<div>\n",
       "<style scoped>\n",
       "    .dataframe tbody tr th:only-of-type {\n",
       "        vertical-align: middle;\n",
       "    }\n",
       "\n",
       "    .dataframe tbody tr th {\n",
       "        vertical-align: top;\n",
       "    }\n",
       "\n",
       "    .dataframe thead th {\n",
       "        text-align: right;\n",
       "    }\n",
       "</style>\n",
       "<table border=\"1\" class=\"dataframe\">\n",
       "  <thead>\n",
       "    <tr style=\"text-align: right;\">\n",
       "      <th></th>\n",
       "      <th>level_0</th>\n",
       "      <th>index</th>\n",
       "      <th>mid</th>\n",
       "      <th>entclass</th>\n",
       "      <th>name</th>\n",
       "      <th>level-1</th>\n",
       "      <th>level-2</th>\n",
       "      <th>level-3</th>\n",
       "      <th>level-1-cleaned</th>\n",
       "      <th>level-2-cleaned</th>\n",
       "      <th>level-3-cleaned</th>\n",
       "    </tr>\n",
       "  </thead>\n",
       "  <tbody>\n",
       "    <tr>\n",
       "      <th>0</th>\n",
       "      <td>0</td>\n",
       "      <td>3</td>\n",
       "      <td>/m/01sl1q</td>\n",
       "      <td>[wordnet_writer_110794014, wordnet_person_1000...</td>\n",
       "      <td>Michelle Rodriguez</td>\n",
       "      <td>[Level-1@person]</td>\n",
       "      <td>[Level-2-Persons@writer]</td>\n",
       "      <td>[]</td>\n",
       "      <td>Level-1@person</td>\n",
       "      <td>Level-2-Persons@writer</td>\n",
       "      <td>None</td>\n",
       "    </tr>\n",
       "    <tr>\n",
       "      <th>1</th>\n",
       "      <td>1</td>\n",
       "      <td>5</td>\n",
       "      <td>/m/04nrcg</td>\n",
       "      <td>[wordnet_organization_108008335]</td>\n",
       "      <td>Maldives national football team</td>\n",
       "      <td>[Level-1@organization]</td>\n",
       "      <td>[]</td>\n",
       "      <td>[]</td>\n",
       "      <td>Level-1@organization</td>\n",
       "      <td>None</td>\n",
       "      <td>None</td>\n",
       "    </tr>\n",
       "    <tr>\n",
       "      <th>2</th>\n",
       "      <td>2</td>\n",
       "      <td>6</td>\n",
       "      <td>/m/07nznf</td>\n",
       "      <td>[wordnet_writer_110794014, wordnet_person_1000...</td>\n",
       "      <td>Bryan Singer</td>\n",
       "      <td>[Level-1@person]</td>\n",
       "      <td>[Level-2-Persons@writer]</td>\n",
       "      <td>[]</td>\n",
       "      <td>Level-1@person</td>\n",
       "      <td>Level-2-Persons@writer</td>\n",
       "      <td>None</td>\n",
       "    </tr>\n",
       "    <tr>\n",
       "      <th>3</th>\n",
       "      <td>3</td>\n",
       "      <td>8</td>\n",
       "      <td>/m/0q9kd</td>\n",
       "      <td>[wordnet_person_100007846]</td>\n",
       "      <td>Danny DeVito</td>\n",
       "      <td>[Level-1@person]</td>\n",
       "      <td>[]</td>\n",
       "      <td>[]</td>\n",
       "      <td>Level-1@person</td>\n",
       "      <td>None</td>\n",
       "      <td>None</td>\n",
       "    </tr>\n",
       "    <tr>\n",
       "      <th>4</th>\n",
       "      <td>4</td>\n",
       "      <td>11</td>\n",
       "      <td>/m/0b76d_m</td>\n",
       "      <td>[wordnet_product_104007894]</td>\n",
       "      <td>Anonymous</td>\n",
       "      <td>[Level-1@product]</td>\n",
       "      <td>[]</td>\n",
       "      <td>[]</td>\n",
       "      <td>Level-1@product</td>\n",
       "      <td>None</td>\n",
       "      <td>None</td>\n",
       "    </tr>\n",
       "  </tbody>\n",
       "</table>\n",
       "</div>"
      ],
      "text/plain": [
       "   level_0  index         mid  \\\n",
       "0        0      3   /m/01sl1q   \n",
       "1        1      5   /m/04nrcg   \n",
       "2        2      6   /m/07nznf   \n",
       "3        3      8    /m/0q9kd   \n",
       "4        4     11  /m/0b76d_m   \n",
       "\n",
       "                                            entclass  \\\n",
       "0  [wordnet_writer_110794014, wordnet_person_1000...   \n",
       "1                   [wordnet_organization_108008335]   \n",
       "2  [wordnet_writer_110794014, wordnet_person_1000...   \n",
       "3                         [wordnet_person_100007846]   \n",
       "4                        [wordnet_product_104007894]   \n",
       "\n",
       "                              name                 level-1  \\\n",
       "0               Michelle Rodriguez        [Level-1@person]   \n",
       "1  Maldives national football team  [Level-1@organization]   \n",
       "2                     Bryan Singer        [Level-1@person]   \n",
       "3                     Danny DeVito        [Level-1@person]   \n",
       "4                        Anonymous       [Level-1@product]   \n",
       "\n",
       "                    level-2 level-3       level-1-cleaned  \\\n",
       "0  [Level-2-Persons@writer]      []        Level-1@person   \n",
       "1                        []      []  Level-1@organization   \n",
       "2  [Level-2-Persons@writer]      []        Level-1@person   \n",
       "3                        []      []        Level-1@person   \n",
       "4                        []      []       Level-1@product   \n",
       "\n",
       "          level-2-cleaned level-3-cleaned  \n",
       "0  Level-2-Persons@writer            None  \n",
       "1                    None            None  \n",
       "2  Level-2-Persons@writer            None  \n",
       "3                    None            None  \n",
       "4                    None            None  "
      ]
     },
     "execution_count": 178,
     "metadata": {},
     "output_type": "execute_result"
    }
   ],
   "source": [
    "train_en_clear = make_levels_cleaner(train_ent)\n",
    "test_en_clear = make_levels_cleaner(test_ent)\n",
    "valid_en_clear = make_levels_cleaner(valid_ent)\n",
    "\n",
    "df_ent = pd.concat([train_en_clear, test_en_clear, valid_en_clear]).reset_index(drop=True)\n",
    "df_ent = df_ent.drop_duplicates(subset=['mid', 'name'], keep='first').reset_index()\n",
    "\n",
    "print(\"shape of dataframe is:\", df_ent.shape[0])\n",
    "\n",
    "df_ent.head(5)"
   ]
  },
  {
   "cell_type": "code",
   "execution_count": 179,
   "id": "b4a14299-c60d-4d2a-b041-fa5f6a679858",
   "metadata": {},
   "outputs": [
    {
     "data": {
      "text/plain": [
       "Text(0.5, 1.0, 'TRAIN-VALID Level-3 Frequencies')"
      ]
     },
     "execution_count": 179,
     "metadata": {},
     "output_type": "execute_result"
    },
    {
     "data": {
      "image/png": "[encoded data removed]",
      "text/plain": [
       "<Figure size 2000x1600 with 3 Axes>"
      ]
     },
     "metadata": {},
     "output_type": "display_data"
    }
   ],
   "source": [
    "import matplotlib.pyplot as plt\n",
    "\n",
    "fig = plt.figure(figsize=(20,16))\n",
    "plt.rcParams[\"figure.autolayout\"] = True\n",
    "\n",
    "ax1 = fig.add_subplot(3, 9, (1, 3))\n",
    "df_ent['level-1-cleaned'].value_counts().plot(ax=ax1, kind='bar')\n",
    "ax1.set_title('TRAIN-VALID Level-1 Frequencies')\n",
    "\n",
    "ax2 = fig.add_subplot(3, 9, (4, 6))\n",
    "df_ent['level-2-cleaned'].value_counts().plot(ax=ax2, kind='bar')\n",
    "ax2.set_title('TRAIN-VALID Level-2 Frequencies')\n",
    "\n",
    "ax4 = fig.add_subplot(3, 9, (7, 9))\n",
    "df_ent['level-3-cleaned'].value_counts().plot(ax=ax4, kind='bar', legend=False)\n",
    "ax4.set_title('TRAIN-VALID Level-3 Frequencies')"
   ]
  },
  {
   "cell_type": "code",
   "execution_count": 180,
   "id": "f3883eab-f16d-42b2-b26d-757b51e4c230",
   "metadata": {},
   "outputs": [
    {
     "data": {
      "text/plain": [
       "Level-1@person           4443\n",
       "Level-1@organization     2353\n",
       "Level-1@product          1591\n",
       "Level-1@body_of_water      24\n",
       "Name: level-1-cleaned, dtype: int64"
      ]
     },
     "execution_count": 180,
     "metadata": {},
     "output_type": "execute_result"
    }
   ],
   "source": [
    "df_ent['level-1-cleaned'].value_counts()"
   ]
  },
  {
   "cell_type": "code",
   "execution_count": 183,
   "id": "587d91b3-9537-4d36-bcf7-679ffcd2ebb5",
   "metadata": {},
   "outputs": [
    {
     "data": {
      "text/plain": [
       "(8411, 3597, 87)"
      ]
     },
     "execution_count": 183,
     "metadata": {},
     "output_type": "execute_result"
    }
   ],
   "source": [
    "sum(df_ent['level-1-cleaned'].value_counts()), sum(df_ent['level-2-cleaned'].value_counts()), sum(df_ent['level-3-cleaned'].value_counts())"
   ]
  },
  {
   "cell_type": "code",
   "execution_count": 182,
   "id": "b2a27aca-edd4-4477-a015-670e33fe30cb",
   "metadata": {},
   "outputs": [
    {
     "data": {
      "text/plain": [
       "Level-2-Persons@artist                                1795\n",
       "Level-2-Persons@writer                                1112\n",
       "Level-2-Persons@politician                             245\n",
       "Level-2-Organizations@enterprise                       169\n",
       "Level-2-Organizations@musical_organization             136\n",
       "Level-2-Organizations@nongovernmental_organization      80\n",
       "Level-2-Organizations@party                             42\n",
       "Level-2-Persons@scientist                               10\n",
       "Level-2-Persons@officeholder                             8\n",
       "Name: level-2-cleaned, dtype: int64"
      ]
     },
     "execution_count": 182,
     "metadata": {},
     "output_type": "execute_result"
    }
   ],
   "source": [
    "df_ent['level-2-cleaned'].value_counts()"
   ]
  },
  {
   "cell_type": "code",
   "execution_count": 175,
   "id": "03121b56-b323-415c-803c-693437bd8bb7",
   "metadata": {},
   "outputs": [
    {
     "data": {
      "text/plain": [
       "Level-3-Artists@photographer    64\n",
       "Level-3-Artists@painter         19\n",
       "Level-3-Artists@printmaker       2\n",
       "Level-3-Artists@illustrator      1\n",
       "Level-3-Artists@sculptor         1\n",
       "Name: level-3-cleaned, dtype: int64"
      ]
     },
     "execution_count": 175,
     "metadata": {},
     "output_type": "execute_result"
    }
   ],
   "source": [
    "df_ent['level-3-cleaned'].value_counts()"
   ]
  },
  {
   "cell_type": "code",
   "execution_count": null,
   "id": "09a4ce0a-5cdf-445a-8578-c0c4833ddb50",
   "metadata": {},
   "outputs": [],
   "source": []
  },
  {
   "cell_type": "code",
   "execution_count": null,
   "id": "e2d029e6-0cda-4697-94fc-970243257099",
   "metadata": {},
   "outputs": [],
   "source": []
  },
  {
   "cell_type": "code",
   "execution_count": 186,
   "id": "3d827df6-1895-4e94-bd13-899e6cd04ae0",
   "metadata": {},
   "outputs": [
    {
     "data": {
      "text/plain": [
       "defaultdict(int,\n",
       "            {'Level-1@person': 4443,\n",
       "             'Level-1@organization': 2353,\n",
       "             'Level-1@product': 1591,\n",
       "             'Level-1@body_of_water': 24})"
      ]
     },
     "execution_count": 186,
     "metadata": {},
     "output_type": "execute_result"
    }
   ],
   "source": [
    "# Level 1\n",
    "from collections import defaultdict\n",
    "\n",
    "level_items = defaultdict(int)\n",
    "\n",
    "for items in df_ent['level-1']:\n",
    "    for item in items:\n",
    "        level_items[item] += 1\n",
    "level_items"
   ]
  },
  {
   "cell_type": "code",
   "execution_count": 187,
   "id": "5b1c815f-8fc8-4640-94ad-430e4c706e46",
   "metadata": {},
   "outputs": [
    {
     "data": {
      "text/plain": [
       "defaultdict(int,\n",
       "            {'Level-2-Persons@writer': 1917,\n",
       "             'Level-2-Persons@artist': 1891,\n",
       "             'Level-2-Persons@politician': 245,\n",
       "             'Level-2-Organizations@enterprise': 169,\n",
       "             'Level-2-Persons@scientist': 115,\n",
       "             'Level-2-Persons@officeholder': 108,\n",
       "             'Level-2-Organizations@nongovernmental_organization': 82,\n",
       "             'Level-2-Organizations@party': 42,\n",
       "             'Level-2-Organizations@musical_organization': 137})"
      ]
     },
     "execution_count": 187,
     "metadata": {},
     "output_type": "execute_result"
    }
   ],
   "source": [
    "# Level 1\n",
    "from collections import defaultdict\n",
    "\n",
    "level_items = defaultdict(int)\n",
    "\n",
    "for items in df_ent['level-2']:\n",
    "    for item in items:\n",
    "        level_items[item] += 1\n",
    "level_items"
   ]
  },
  {
   "cell_type": "code",
   "execution_count": 189,
   "id": "dcc45cba-cb9b-46c2-a271-dd17e8ec37eb",
   "metadata": {},
   "outputs": [
    {
     "data": {
      "text/plain": [
       "4276"
      ]
     },
     "execution_count": 189,
     "metadata": {},
     "output_type": "execute_result"
    }
   ],
   "source": [
    "115+108+245+1891+1917"
   ]
  },
  {
   "cell_type": "code",
   "execution_count": 188,
   "id": "f41d9e19-d8e2-442f-ab90-38dae979fe4d",
   "metadata": {},
   "outputs": [
    {
     "data": {
      "text/plain": [
       "defaultdict(int,\n",
       "            {'Level-3-Artists@photographer': 110,\n",
       "             'Level-3-Artists@painter': 69,\n",
       "             'Level-3-Artists@illustrator': 20,\n",
       "             'Level-3-Artists@sculptor': 15,\n",
       "             'Level-3-Artists@printmaker': 11})"
      ]
     },
     "execution_count": 188,
     "metadata": {},
     "output_type": "execute_result"
    }
   ],
   "source": [
    "# Level 1\n",
    "from collections import defaultdict\n",
    "\n",
    "level_items = defaultdict(int)\n",
    "\n",
    "for items in df_ent['level-3']:\n",
    "    for item in items:\n",
    "        level_items[item] += 1\n",
    "level_items"
   ]
  },
  {
   "cell_type": "code",
   "execution_count": null,
   "id": "2c66ba38-d046-498f-991b-e94aab08f0a3",
   "metadata": {},
   "outputs": [],
   "source": []
  }
 ],
 "metadata": {
  "kernelspec": {
   "display_name": "Python 3 (ipykernel)",
   "language": "python",
   "name": "python3"
  },
  "language_info": {
   "codemirror_mode": {
    "name": "ipython",
    "version": 3
   },
   "file_extension": ".py",
   "mimetype": "text/x-python",
   "name": "python",
   "nbconvert_exporter": "python",
   "pygments_lexer": "ipython3",
   "version": "3.9.2"
  }
 },
 "nbformat": 4,
 "nbformat_minor": 5
}
