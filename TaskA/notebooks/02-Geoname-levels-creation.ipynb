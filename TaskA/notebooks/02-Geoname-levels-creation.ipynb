{
 "cells": [
  {
   "cell_type": "markdown",
   "id": "dc6bde08-a5c0-42b7-97c0-afe3f28c28ea",
   "metadata": {},
   "source": [
    "# Testig Recursive Method for Level2 Creation"
   ]
  },
  {
   "cell_type": "code",
   "execution_count": 15,
   "id": "148261d5-796e-4aa9-bf87-a5c1a61d1fc4",
   "metadata": {},
   "outputs": [],
   "source": [
    "import __init__"
   ]
  },
  {
   "cell_type": "code",
   "execution_count": 40,
   "id": "cc610ede-0f42-4020-8757-1b260e01d1aa",
   "metadata": {},
   "outputs": [
    {
     "name": "stdout",
     "output_type": "stream",
     "text": [
      "['ADM1', 'ADM1H', 'ADM2', 'ADM2H', 'ADM3', 'ADM3H', 'ADM4', 'ADM4H', 'ADM5', 'ADM5H', 'ADMD', 'ADMDH', 'LTER', 'PCL', 'PCLD', 'PCLF', 'PCLH', 'PCLI', 'PCLIX', 'PCLS', 'PRSH', 'TERR', 'ZN', 'ZNB']\n"
     ]
    }
   ],
   "source": [
    "code_a = \"\"\"ADM1\n",
    "ADM1H\n",
    "ADM2\n",
    "ADM2H\n",
    "ADM3\n",
    "ADM3H\n",
    "ADM4\n",
    "ADM4H\n",
    "ADM5\n",
    "ADM5H\n",
    "ADMD\n",
    "ADMDH\n",
    "LTER\n",
    "PCL\n",
    "PCLD\n",
    "PCLF\n",
    "PCLH\n",
    "PCLI\n",
    "PCLIX\n",
    "PCLS\n",
    "PRSH\n",
    "TERR\n",
    "ZN\n",
    "ZNB\"\"\"\n",
    "\n",
    "code_a = code_a.split(\"\\n\")\n",
    "print(code_a)"
   ]
  },
  {
   "cell_type": "code",
   "execution_count": 59,
   "id": "9affef44-49fe-478e-b845-570fe138afd4",
   "metadata": {},
   "outputs": [],
   "source": [
    "def recursive_main_function(codes: dict, depth: int) -> dict:\n",
    "    depth_dict = {}\n",
    "    # depth = depth - 1\n",
    "    d = 2\n",
    "    for key, items in codes.items():\n",
    "        for item in items:\n",
    "            \n",
    "            if len(item) > depth + d:\n",
    "                if item[:depth+d] not in depth_dict:\n",
    "                    depth_dict[item[:depth+d]] = []\n",
    "                depth_dict[item[:depth+d]].append(item)\n",
    "            else:\n",
    "                depth_dict[item] = [item]\n",
    "    return depth_dict\n",
    "\n",
    "def recursive(codes, depth: int, start_depth: int=0) -> dict:\n",
    "    if start_depth != depth - 1:\n",
    "        codes = recursive_main_function({\"data\":codes}, start_depth)\n",
    "        for key, value in codes.items():\n",
    "            codes[key] = recursive(value, depth, start_depth + 1)\n",
    "    return codes"
   ]
  },
  {
   "cell_type": "code",
   "execution_count": 61,
   "id": "0d1540e0-e015-438d-bf9d-358edd9140f3",
   "metadata": {},
   "outputs": [
    {
     "data": {
      "text/plain": [
       "{'ADM': ['ADM1',\n",
       "  'ADM1H',\n",
       "  'ADM2',\n",
       "  'ADM2H',\n",
       "  'ADM3',\n",
       "  'ADM3H',\n",
       "  'ADM4',\n",
       "  'ADM4H',\n",
       "  'ADM5',\n",
       "  'ADM5H',\n",
       "  'ADMD',\n",
       "  'ADMDH'],\n",
       " 'LTE': ['LTER'],\n",
       " 'PCL': ['PCL', 'PCLD', 'PCLF', 'PCLH', 'PCLI', 'PCLIX', 'PCLS'],\n",
       " 'PRS': ['PRSH'],\n",
       " 'TER': ['TERR'],\n",
       " 'ZN': ['ZN'],\n",
       " 'ZNB': ['ZNB']}"
      ]
     },
     "execution_count": 61,
     "metadata": {},
     "output_type": "execute_result"
    }
   ],
   "source": [
    "recursive_main_function({\"data\":code_a}, 1)"
   ]
  },
  {
   "cell_type": "code",
   "execution_count": 64,
   "id": "b592f09d-3ebb-4138-94c5-22be3359714e",
   "metadata": {},
   "outputs": [
    {
     "data": {
      "text/plain": [
       "{'AD': {'ADM': ['ADM1',\n",
       "   'ADM1H',\n",
       "   'ADM2',\n",
       "   'ADM2H',\n",
       "   'ADM3',\n",
       "   'ADM3H',\n",
       "   'ADM4',\n",
       "   'ADM4H',\n",
       "   'ADM5',\n",
       "   'ADM5H',\n",
       "   'ADMD',\n",
       "   'ADMDH']},\n",
       " 'LT': {'LTE': ['LTER']},\n",
       " 'PC': {'PCL': ['PCL', 'PCLD', 'PCLF', 'PCLH', 'PCLI', 'PCLIX', 'PCLS']},\n",
       " 'PR': {'PRS': ['PRSH']},\n",
       " 'TE': {'TER': ['TERR']},\n",
       " 'ZN': {'ZN': ['ZN'], 'ZNB': ['ZNB']}}"
      ]
     },
     "execution_count": 64,
     "metadata": {},
     "output_type": "execute_result"
    }
   ],
   "source": [
    "# start depht is always 2 and here we only chose the end depht\n",
    "recursive(code_a, depth=3)"
   ]
  },
  {
   "cell_type": "markdown",
   "id": "9dfe65aa-7a7a-4055-8b00-ba57d491091b",
   "metadata": {},
   "source": [
    "# Create Level2 Based on Feature Codes"
   ]
  },
  {
   "cell_type": "code",
   "execution_count": 60,
   "id": "fb50f13c-5646-456c-bd47-6bf67f90ff8b",
   "metadata": {},
   "outputs": [
    {
     "name": "stdout",
     "output_type": "stream",
     "text": [
      "group A: number of depth-2 items:‌ 6\n",
      "group H: number of depth-2 items:‌ 57\n",
      "group L: number of depth-2 items:‌ 34\n",
      "group P: number of depth-2 items:‌ 2\n",
      "group R: number of depth-2 items:‌ 12\n",
      "group S: number of depth-2 items:‌ 115\n",
      "group T: number of depth-2 items:‌ 62\n",
      "group U: number of depth-2 items:‌ 47\n",
      "group V: number of depth-2 items:‌ 11\n"
     ]
    },
    {
     "data": {
      "text/html": [
       "<div>\n",
       "<style scoped>\n",
       "    .dataframe tbody tr th:only-of-type {\n",
       "        vertical-align: middle;\n",
       "    }\n",
       "\n",
       "    .dataframe tbody tr th {\n",
       "        vertical-align: top;\n",
       "    }\n",
       "\n",
       "    .dataframe thead th {\n",
       "        text-align: right;\n",
       "    }\n",
       "</style>\n",
       "<table border=\"1\" class=\"dataframe\">\n",
       "  <thead>\n",
       "    <tr style=\"text-align: right;\">\n",
       "      <th></th>\n",
       "      <th>feature-code</th>\n",
       "      <th>name</th>\n",
       "      <th>description</th>\n",
       "      <th>level-1</th>\n",
       "      <th>level-2</th>\n",
       "      <th>level-3</th>\n",
       "    </tr>\n",
       "  </thead>\n",
       "  <tbody>\n",
       "    <tr>\n",
       "      <th>0</th>\n",
       "      <td>A.ADM1</td>\n",
       "      <td>first-order administrative division</td>\n",
       "      <td>a primary administrative division of a country...</td>\n",
       "      <td>A</td>\n",
       "      <td>ADM</td>\n",
       "      <td>ADM1</td>\n",
       "    </tr>\n",
       "    <tr>\n",
       "      <th>1</th>\n",
       "      <td>A.ADM1H</td>\n",
       "      <td>historical first-order administrative division</td>\n",
       "      <td>a former first-order administrative division</td>\n",
       "      <td>A</td>\n",
       "      <td>ADM</td>\n",
       "      <td>ADM1H</td>\n",
       "    </tr>\n",
       "    <tr>\n",
       "      <th>2</th>\n",
       "      <td>A.ADM2</td>\n",
       "      <td>second-order administrative division</td>\n",
       "      <td>a subdivision of a first-order administrative ...</td>\n",
       "      <td>A</td>\n",
       "      <td>ADM</td>\n",
       "      <td>ADM2</td>\n",
       "    </tr>\n",
       "    <tr>\n",
       "      <th>3</th>\n",
       "      <td>A.ADM2H</td>\n",
       "      <td>historical second-order administrative division</td>\n",
       "      <td>a former second-order administrative division</td>\n",
       "      <td>A</td>\n",
       "      <td>ADM</td>\n",
       "      <td>ADM2H</td>\n",
       "    </tr>\n",
       "    <tr>\n",
       "      <th>4</th>\n",
       "      <td>A.ADM3</td>\n",
       "      <td>third-order administrative division</td>\n",
       "      <td>a subdivision of a second-order administrative...</td>\n",
       "      <td>A</td>\n",
       "      <td>ADM</td>\n",
       "      <td>ADM3</td>\n",
       "    </tr>\n",
       "    <tr>\n",
       "      <th>5</th>\n",
       "      <td>A.ADM3H</td>\n",
       "      <td>historical third-order administrative division</td>\n",
       "      <td>a former third-order administrative division</td>\n",
       "      <td>A</td>\n",
       "      <td>ADM</td>\n",
       "      <td>ADM3H</td>\n",
       "    </tr>\n",
       "    <tr>\n",
       "      <th>6</th>\n",
       "      <td>A.ADM4</td>\n",
       "      <td>fourth-order administrative division</td>\n",
       "      <td>a subdivision of a third-order administrative ...</td>\n",
       "      <td>A</td>\n",
       "      <td>ADM</td>\n",
       "      <td>ADM4</td>\n",
       "    </tr>\n",
       "    <tr>\n",
       "      <th>7</th>\n",
       "      <td>A.ADM4H</td>\n",
       "      <td>historical fourth-order administrative division</td>\n",
       "      <td>a former fourth-order administrative division</td>\n",
       "      <td>A</td>\n",
       "      <td>ADM</td>\n",
       "      <td>ADM4H</td>\n",
       "    </tr>\n",
       "    <tr>\n",
       "      <th>8</th>\n",
       "      <td>A.ADM5</td>\n",
       "      <td>fifth-order administrative division</td>\n",
       "      <td>a subdivision of a fourth-order administrative...</td>\n",
       "      <td>A</td>\n",
       "      <td>ADM</td>\n",
       "      <td>ADM5</td>\n",
       "    </tr>\n",
       "    <tr>\n",
       "      <th>9</th>\n",
       "      <td>A.ADM5H</td>\n",
       "      <td>historical fifth-order administrative division</td>\n",
       "      <td>a former fifth-order administrative division</td>\n",
       "      <td>A</td>\n",
       "      <td>ADM</td>\n",
       "      <td>ADM5H</td>\n",
       "    </tr>\n",
       "  </tbody>\n",
       "</table>\n",
       "</div>"
      ],
      "text/plain": [
       "  feature-code                                             name  \\\n",
       "0       A.ADM1              first-order administrative division   \n",
       "1      A.ADM1H   historical first-order administrative division   \n",
       "2       A.ADM2             second-order administrative division   \n",
       "3      A.ADM2H  historical second-order administrative division   \n",
       "4       A.ADM3              third-order administrative division   \n",
       "5      A.ADM3H   historical third-order administrative division   \n",
       "6       A.ADM4             fourth-order administrative division   \n",
       "7      A.ADM4H  historical fourth-order administrative division   \n",
       "8       A.ADM5              fifth-order administrative division   \n",
       "9      A.ADM5H   historical fifth-order administrative division   \n",
       "\n",
       "                                         description level-1 level-2 level-3  \n",
       "0  a primary administrative division of a country...       A     ADM    ADM1  \n",
       "1       a former first-order administrative division       A     ADM   ADM1H  \n",
       "2  a subdivision of a first-order administrative ...       A     ADM    ADM2  \n",
       "3      a former second-order administrative division       A     ADM   ADM2H  \n",
       "4  a subdivision of a second-order administrative...       A     ADM    ADM3  \n",
       "5       a former third-order administrative division       A     ADM   ADM3H  \n",
       "6  a subdivision of a third-order administrative ...       A     ADM    ADM4  \n",
       "7      a former fourth-order administrative division       A     ADM   ADM4H  \n",
       "8  a subdivision of a fourth-order administrative...       A     ADM    ADM5  \n",
       "9       a former fifth-order administrative division       A     ADM   ADM5H  "
      ]
     },
     "metadata": {},
     "output_type": "display_data"
    },
    {
     "name": "stdout",
     "output_type": "stream",
     "text": [
      "size of feature codes is: (680, 6)\n"
     ]
    }
   ],
   "source": [
    "from datahandler.datareader import DataReader\n",
    "\n",
    "feature_codes = \"../datasets/Geonames/raw/featureCodes_en.txt\"\n",
    "feature_codes_df = DataReader.load_csv(feature_codes, sep='\\t', names=[\"feature-code\", \"name\", \"description\"])\n",
    "feature_codes_df = feature_codes_df.drop(feature_codes_df[feature_codes_df['feature-code'].isnull()].index)\n",
    "feature_codes_df['level-1'] = feature_codes_df['feature-code'].apply(lambda X: str(X)[0])\n",
    "feature_codes_df['level-3'] = feature_codes_df['feature-code'].apply(lambda X: str(X)[2:])\n",
    "\n",
    "level2_mapper = {}\n",
    "for group, group_df in feature_codes_df.groupby(\"level-1\"):\n",
    "    group_df_level2_taxonomy = recursive(group_df['level-3'].tolist(), depth=3)\n",
    "    print(f\"group {group}: number of depth-2 items:‌ {len(group_df_level2_taxonomy)}\")\n",
    "    for depth2_name, depth2_items in group_df_level2_taxonomy.items():\n",
    "        for depth3_name, depth3_items in depth2_items.items():\n",
    "                for depth3_item in depth3_items:\n",
    "                    # level2_mapper[level2] = level1_name  \n",
    "                    level2_mapper[depth3_item] = depth3_name\n",
    "\n",
    "feature_codes_df['level-2'] = feature_codes_df['level-3'].map(level2_mapper)\n",
    "level3_columns = feature_codes_df.pop(\"level-3\")\n",
    "feature_codes_df.insert(5, \"level-3\", level3_columns)\n",
    "\n",
    "display(feature_codes_df.head(10))\n",
    "\n",
    "print(\"size of feature codes is:\", feature_codes_df.shape)"
   ]
  },
  {
   "cell_type": "code",
   "execution_count": 62,
   "id": "bb265381-2421-4952-ac63-71e609dd2a1d",
   "metadata": {},
   "outputs": [
    {
     "data": {
      "text/plain": [
       "S    253\n",
       "H    137\n",
       "T     98\n",
       "U     62\n",
       "L     48\n",
       "A     24\n",
       "R     22\n",
       "P     18\n",
       "V     18\n",
       "Name: level-1, dtype: int64"
      ]
     },
     "execution_count": 62,
     "metadata": {},
     "output_type": "execute_result"
    }
   ],
   "source": [
    "feature_codes_df['level-1'].value_counts()"
   ]
  },
  {
   "cell_type": "markdown",
   "id": "0f2b62e8-e760-4f6d-84fe-b8657bf05d8c",
   "metadata": {},
   "source": [
    "# Analyze which level for Recursive function is appropiate for BEING‌ Level2"
   ]
  },
  {
   "cell_type": "code",
   "execution_count": 63,
   "id": "abe51946-bdca-4298-8b99-813bb245e3cd",
   "metadata": {},
   "outputs": [],
   "source": [
    "gp_df = feature_codes_df.groupby(\"level-1\")"
   ]
  },
  {
   "cell_type": "code",
   "execution_count": 66,
   "id": "e68491e9-b8b8-4d18-83dc-54e3c5e1457d",
   "metadata": {},
   "outputs": [
    {
     "name": "stdout",
     "output_type": "stream",
     "text": [
      "\tA \tH \tL \tP \tR \tS \tT \tU \tV \n",
      "A\t6\t0\t1\t0\t1\t4\t1\t2\t0\t\n",
      "H\t0\t57\t4\t1\t3\t26\t16\t15\t2\t\n",
      "L\t1\t4\t34\t0\t4\t19\t13\t9\t2\t\n",
      "P\t0\t1\t0\t2\t1\t2\t0\t0\t0\t\n",
      "R\t1\t3\t4\t1\t12\t7\t4\t4\t1\t\n",
      "S\t4\t26\t19\t2\t7\t115\t30\t23\t6\t\n",
      "T\t1\t16\t13\t0\t4\t30\t62\t24\t5\t\n",
      "U\t2\t15\t9\t0\t4\t23\t24\t47\t3\t\n",
      "V\t0\t2\t2\t0\t1\t6\t5\t3\t11\t\n"
     ]
    }
   ],
   "source": [
    "###‌       DEPTH = 2\n",
    "depth2_gps = {}\n",
    "for gp, df in gp_df:\n",
    "    depth2_gps[gp] = recursive(gp_df.get_group(gp)['level-3'].tolist(), depth=2)\n",
    "    \n",
    "for row in depth2_gps.keys():\n",
    "    print(f\"\\t{row}\", end=' ')\n",
    "print()\n",
    "for row in depth2_gps.keys():\n",
    "    print(f\"{row}\", end=\"\\t\")\n",
    "    for col in depth2_gps.keys():\n",
    "        print(len(set(depth2_gps[row].keys()).intersection(depth2_gps[col].keys())), end=\"\\t\")\n",
    "    print()"
   ]
  },
  {
   "cell_type": "code",
   "execution_count": 68,
   "id": "92451680-8174-4208-b4fc-1fbca7114dff",
   "metadata": {},
   "outputs": [
    {
     "name": "stdout",
     "output_type": "stream",
     "text": [
      "\tA \tH \tL \tP \tR \tS \tT \tU \tV \n",
      "A\t7\t0\t0\t0\t0\t1\t0\t1\t0\t\n",
      "H\t0\t71\t0\t0\t1\t6\t4\t5\t0\t\n",
      "L\t0\t0\t36\t0\t1\t7\t1\t2\t0\t\n",
      "P\t0\t0\t0\t2\t0\t0\t0\t0\t0\t\n",
      "R\t0\t1\t1\t0\t18\t2\t0\t0\t0\t\n",
      "S\t1\t6\t7\t0\t2\t165\t1\t2\t2\t\n",
      "T\t0\t4\t1\t0\t0\t1\t80\t15\t1\t\n",
      "U\t1\t5\t2\t0\t0\t2\t15\t62\t0\t\n",
      "V\t0\t0\t0\t0\t0\t2\t1\t0\t13\t\n"
     ]
    }
   ],
   "source": [
    "###‌       DEPTH = 3\n",
    "depth3_gps = {}\n",
    "for gp, df in gp_df:\n",
    "    # level1_gps[gp] = \n",
    "    depths = recursive(gp_df.get_group(gp)['level-3'].tolist(), depth=3)\n",
    "    depth_dict = {}\n",
    "    for key1, value1 in depths.items():\n",
    "        for key2, value2 in value1.items():\n",
    "            depth_dict[key2] = value2\n",
    "    depth3_gps[gp] = depth_dict\n",
    "    \n",
    "for row in depth3_gps.keys():\n",
    "    print(f\"\\t{row}\", end=' ')\n",
    "print()\n",
    "for row in depth3_gps.keys():\n",
    "    print(f\"{row}\", end=\"\\t\")\n",
    "    for col in depth3_gps.keys():\n",
    "        print(len(set(depth3_gps[row].keys()).intersection(depth3_gps[col].keys())), end=\"\\t\")\n",
    "    print()"
   ]
  },
  {
   "cell_type": "code",
   "execution_count": 69,
   "id": "0cbc6e1f-b932-4da4-b8c4-10d9957113e0",
   "metadata": {},
   "outputs": [
    {
     "name": "stdout",
     "output_type": "stream",
     "text": [
      "\tA \tH \tL \tP \tR \tS \tT \tU \tV \n",
      "A\t17\t0\t0\t0\t0\t0\t0\t0\t0\t\n",
      "H\t0\t122\t0\t0\t0\t0\t0\t0\t0\t\n",
      "L\t0\t0\t48\t0\t0\t0\t0\t0\t0\t\n",
      "P\t0\t0\t0\t13\t0\t0\t0\t0\t0\t\n",
      "R\t0\t0\t0\t0\t21\t0\t0\t0\t0\t\n",
      "S\t0\t0\t0\t0\t0\t244\t0\t0\t0\t\n",
      "T\t0\t0\t0\t0\t0\t0\t97\t0\t0\t\n",
      "U\t0\t0\t0\t0\t0\t0\t0\t62\t0\t\n",
      "V\t0\t0\t0\t0\t0\t0\t0\t0\t16\t\n"
     ]
    }
   ],
   "source": [
    "###‌       DEPTH = 4\n",
    "depth4_gps = {}\n",
    "for gp, df in gp_df:\n",
    "    # level1_gps[gp] = \n",
    "    depths = recursive(gp_df.get_group(gp)['level-3'].tolist(), depth=4)\n",
    "    depth_dict = {}\n",
    "    for key1, value1 in depths.items():\n",
    "        for key2, value2 in value1.items():\n",
    "            for key3, value3 in value2.items():\n",
    "                depth_dict[key3] = value3\n",
    "    depth4_gps[gp] = depth_dict\n",
    "    \n",
    "for row in depth4_gps.keys():\n",
    "    print(f\"\\t{row}\", end=' ')\n",
    "print()\n",
    "for row in depth4_gps.keys():\n",
    "    print(f\"{row}\", end=\"\\t\")\n",
    "    for col in depth4_gps.keys():\n",
    "        print(len(set(depth4_gps[row].keys()).intersection(depth4_gps[col].keys())), end=\"\\t\")\n",
    "    print()"
   ]
  },
  {
   "cell_type": "code",
   "execution_count": null,
   "id": "28ae7f6c-7fba-4ac8-8e5d-0617407f77e8",
   "metadata": {},
   "outputs": [],
   "source": []
  },
  {
   "cell_type": "code",
   "execution_count": null,
   "id": "8e7cfaa4-c8fd-4848-9b2c-7e86596c8665",
   "metadata": {},
   "outputs": [],
   "source": []
  }
 ],
 "metadata": {
  "kernelspec": {
   "display_name": "Python 3 (ipykernel)",
   "language": "python",
   "name": "python3"
  },
  "language_info": {
   "codemirror_mode": {
    "name": "ipython",
    "version": 3
   },
   "file_extension": ".py",
   "mimetype": "text/x-python",
   "name": "python",
   "nbconvert_exporter": "python",
   "pygments_lexer": "ipython3",
   "version": "3.9.2"
  }
 },
 "nbformat": 4,
 "nbformat_minor": 5
}
